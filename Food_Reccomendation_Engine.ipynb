{
  "nbformat": 4,
  "nbformat_minor": 0,
  "metadata": {
    "colab": {
      "name": "Food Reccomendation Engine.ipynb",
      "provenance": [],
      "collapsed_sections": []
    },
    "kernelspec": {
      "name": "python3",
      "display_name": "Python 3"
    }
  },
  "cells": [
    {
      "cell_type": "markdown",
      "metadata": {
        "id": "Y32P5pNZfjfJ",
        "colab_type": "text"
      },
      "source": [
        "# Food Reccomendation Engine\n",
        "To recommend food items based on similarity in 'brand','categories','manufacturer' and 'ingredients'.\n",
        "### Source URL:\n",
        "[Click Here](https://raw.githubusercontent.com/syedayazsa/data/master/food_items.csv)\n",
        "\n",
        "\n",
        "###Project Overview:\n",
        "\n",
        "1-Exploratory Data Analysis - EDA\n",
        "\n",
        "2-Vectorization\n",
        "\n",
        "3-Cosine Similarity\n",
        "\n",
        "4-Input and Output "
      ]
    },
    {
      "cell_type": "code",
      "metadata": {
        "id": "UdCeKYYd6iHu",
        "colab_type": "code",
        "colab": {}
      },
      "source": [
        "import pandas as pd\n",
        "import numpy as np \n",
        "import matplotlib.pyplot as plt\n",
        "import seaborn as sns\n",
        "%matplotlib inline"
      ],
      "execution_count": 0,
      "outputs": []
    },
    {
      "cell_type": "code",
      "metadata": {
        "id": "eAzToSyv64_g",
        "colab_type": "code",
        "colab": {}
      },
      "source": [
        "df = pd.read_csv('https://raw.githubusercontent.com/syedayazsa/data/master/food_items.csv')"
      ],
      "execution_count": 0,
      "outputs": []
    },
    {
      "cell_type": "code",
      "metadata": {
        "id": "jEzvZReJ8JN8",
        "colab_type": "code",
        "colab": {}
      },
      "source": [
        "df.set_index('index',inplace=True)"
      ],
      "execution_count": 0,
      "outputs": []
    },
    {
      "cell_type": "code",
      "metadata": {
        "id": "A4jkihyF88dM",
        "colab_type": "code",
        "colab": {
          "base_uri": "https://localhost:8080/",
          "height": 153
        },
        "outputId": "bde2b957-20d9-4dc9-fa2a-f846290a47e3"
      },
      "source": [
        "df.columns"
      ],
      "execution_count": 14,
      "outputs": [
        {
          "output_type": "execute_result",
          "data": {
            "text/plain": [
              "Index(['brand', 'categories', 'ingredients', 'manufacturer', 'title',\n",
              "       'Unnamed: 6', 'Unnamed: 7', 'Unnamed: 8', 'Unnamed: 9', 'Unnamed: 10',\n",
              "       'Unnamed: 11', 'Unnamed: 12', 'Unnamed: 13', 'Unnamed: 14',\n",
              "       'Unnamed: 15', 'Unnamed: 16', 'Unnamed: 17', 'Unnamed: 18',\n",
              "       'Unnamed: 19', 'Unnamed: 20', 'Unnamed: 21', 'Unnamed: 22',\n",
              "       'Unnamed: 23', 'Unnamed: 24', 'Unnamed: 25', 'Unnamed: 26',\n",
              "       'Unnamed: 27', 'Unnamed: 28', 'Unnamed: 29'],\n",
              "      dtype='object')"
            ]
          },
          "metadata": {
            "tags": []
          },
          "execution_count": 14
        }
      ]
    },
    {
      "cell_type": "code",
      "metadata": {
        "id": "BJgAtOr_9Thx",
        "colab_type": "code",
        "colab": {}
      },
      "source": [
        "df.drop(columns=['Unnamed: 6', 'Unnamed: 7', 'Unnamed: 8', 'Unnamed: 9', 'Unnamed: 10',\n",
        "       'Unnamed: 11', 'Unnamed: 12', 'Unnamed: 13', 'Unnamed: 14',\n",
        "       'Unnamed: 15', 'Unnamed: 16', 'Unnamed: 17', 'Unnamed: 18',\n",
        "       'Unnamed: 19', 'Unnamed: 20', 'Unnamed: 21', 'Unnamed: 22',\n",
        "       'Unnamed: 23', 'Unnamed: 24', 'Unnamed: 25', 'Unnamed: 26',\n",
        "       'Unnamed: 27', 'Unnamed: 28', 'Unnamed: 29'],inplace=True)"
      ],
      "execution_count": 0,
      "outputs": []
    },
    {
      "cell_type": "code",
      "metadata": {
        "id": "riP4nYOB9gex",
        "colab_type": "code",
        "colab": {
          "base_uri": "https://localhost:8080/",
          "height": 303
        },
        "outputId": "1667ef6f-dc1e-4793-d0fc-e5b0ad777803"
      },
      "source": [
        "df.head()"
      ],
      "execution_count": 26,
      "outputs": [
        {
          "output_type": "execute_result",
          "data": {
            "text/html": [
              "<div>\n",
              "<style scoped>\n",
              "    .dataframe tbody tr th:only-of-type {\n",
              "        vertical-align: middle;\n",
              "    }\n",
              "\n",
              "    .dataframe tbody tr th {\n",
              "        vertical-align: top;\n",
              "    }\n",
              "\n",
              "    .dataframe thead th {\n",
              "        text-align: right;\n",
              "    }\n",
              "</style>\n",
              "<table border=\"1\" class=\"dataframe\">\n",
              "  <thead>\n",
              "    <tr style=\"text-align: right;\">\n",
              "      <th></th>\n",
              "      <th>brand</th>\n",
              "      <th>categories</th>\n",
              "      <th>ingredients</th>\n",
              "      <th>manufacturer</th>\n",
              "      <th>title</th>\n",
              "    </tr>\n",
              "    <tr>\n",
              "      <th>index</th>\n",
              "      <th></th>\n",
              "      <th></th>\n",
              "      <th></th>\n",
              "      <th></th>\n",
              "      <th></th>\n",
              "    </tr>\n",
              "  </thead>\n",
              "  <tbody>\n",
              "    <tr>\n",
              "      <th>0</th>\n",
              "      <td>Simon Fischer</td>\n",
              "      <td>Grocery &amp; Gourmet Food,Food,Grocery</td>\n",
              "      <td>Dried Prunes,Water,Corn Syrup,Sugar,Pectin.</td>\n",
              "      <td>Sokol And Company</td>\n",
              "      <td>Simon Fischer Fruit Bttr Prune Lekvar</td>\n",
              "    </tr>\n",
              "    <tr>\n",
              "      <th>1</th>\n",
              "      <td>McCormick</td>\n",
              "      <td>Grocery &amp; Gourmet Food,Food,Grocery</td>\n",
              "      <td>Salt,Sugar,Molasses (Refinery Syrup, Molasses,...</td>\n",
              "      <td>McCormick &amp; Co, Inc</td>\n",
              "      <td>McCORMICK GRILL MATES MOLASSES BACON SEASONING...</td>\n",
              "    </tr>\n",
              "    <tr>\n",
              "      <th>2</th>\n",
              "      <td>Jolly Time</td>\n",
              "      <td>Grocery &amp; Gourmet Food,Grocery</td>\n",
              "      <td>Salt, Yellow 5 Lake, Tricalcium Phosphate And ...</td>\n",
              "      <td>Reese's</td>\n",
              "      <td>Jolly Time Popcorn</td>\n",
              "    </tr>\n",
              "    <tr>\n",
              "      <th>3</th>\n",
              "      <td>Ziyad</td>\n",
              "      <td>Grocery &amp; Gourmet Food,grocery</td>\n",
              "      <td>Mechanically hulled seasame seeds.Allergy Info...</td>\n",
              "      <td>Ziyad</td>\n",
              "      <td>Ziyad Tahini Sesame Sauce</td>\n",
              "    </tr>\n",
              "    <tr>\n",
              "      <th>4</th>\n",
              "      <td>Fla-Vor-Ice</td>\n",
              "      <td>Grocery &amp; Gourmet Food,grocery</td>\n",
              "      <td>FALSE</td>\n",
              "      <td>Fla-Vor-Ice</td>\n",
              "      <td>Fla-Vor-Ice Plus Giant Pops</td>\n",
              "    </tr>\n",
              "  </tbody>\n",
              "</table>\n",
              "</div>"
            ],
            "text/plain": [
              "               brand  ...                                              title\n",
              "index                 ...                                                   \n",
              "0      Simon Fischer  ...              Simon Fischer Fruit Bttr Prune Lekvar\n",
              "1          McCormick  ...  McCORMICK GRILL MATES MOLASSES BACON SEASONING...\n",
              "2         Jolly Time  ...                                 Jolly Time Popcorn\n",
              "3              Ziyad  ...                          Ziyad Tahini Sesame Sauce\n",
              "4        Fla-Vor-Ice  ...                        Fla-Vor-Ice Plus Giant Pops\n",
              "\n",
              "[5 rows x 5 columns]"
            ]
          },
          "metadata": {
            "tags": []
          },
          "execution_count": 26
        }
      ]
    },
    {
      "cell_type": "code",
      "metadata": {
        "id": "DaGQYaw1BB55",
        "colab_type": "code",
        "colab": {
          "base_uri": "https://localhost:8080/",
          "height": 34
        },
        "outputId": "03e6af4f-5120-4a18-9077-d199d91cafc2"
      },
      "source": [
        "len(df)"
      ],
      "execution_count": 27,
      "outputs": [
        {
          "output_type": "execute_result",
          "data": {
            "text/plain": [
              "10000"
            ]
          },
          "metadata": {
            "tags": []
          },
          "execution_count": 27
        }
      ]
    },
    {
      "cell_type": "code",
      "metadata": {
        "id": "b6rwql-o-kzt",
        "colab_type": "code",
        "colab": {
          "base_uri": "https://localhost:8080/",
          "height": 119
        },
        "outputId": "4c0d31db-89ea-434e-a386-610ca4e56d1e"
      },
      "source": [
        "df.isnull().sum()"
      ],
      "execution_count": 24,
      "outputs": [
        {
          "output_type": "execute_result",
          "data": {
            "text/plain": [
              "brand            886\n",
              "categories         0\n",
              "ingredients       28\n",
              "manufacturer    2683\n",
              "title              4\n",
              "dtype: int64"
            ]
          },
          "metadata": {
            "tags": []
          },
          "execution_count": 24
        }
      ]
    },
    {
      "cell_type": "code",
      "metadata": {
        "id": "IOxqoTQL-r2C",
        "colab_type": "code",
        "colab": {
          "base_uri": "https://localhost:8080/",
          "height": 221
        },
        "outputId": "f256b3bc-a0a7-49f2-d780-aaac02d147b7"
      },
      "source": [
        "df['brand'].value_counts()"
      ],
      "execution_count": 32,
      "outputs": [
        {
          "output_type": "execute_result",
          "data": {
            "text/plain": [
              "Goya Food                    77\n",
              "Roland                       75\n",
              "CVS Gold Emblem              75\n",
              "Bob's Red Mill               71\n",
              "Smart Sense                  70\n",
              "                             ..\n",
              "Julia's Southern Magnolia     1\n",
              "UNFI (Honest Green)           1\n",
              "Applegate                     1\n",
              "Smokehouse Aries              1\n",
              "Maui Fruit Jewels             1\n",
              "Name: brand, Length: 3143, dtype: int64"
            ]
          },
          "metadata": {
            "tags": []
          },
          "execution_count": 32
        }
      ]
    },
    {
      "cell_type": "code",
      "metadata": {
        "id": "SXN6xdB-CeV1",
        "colab_type": "code",
        "colab": {
          "base_uri": "https://localhost:8080/",
          "height": 221
        },
        "outputId": "d7878a91-6c47-40cd-b61e-b28e792300bb"
      },
      "source": [
        "df.info()"
      ],
      "execution_count": 37,
      "outputs": [
        {
          "output_type": "stream",
          "text": [
            "<class 'pandas.core.frame.DataFrame'>\n",
            "Int64Index: 10000 entries, 0 to 9999\n",
            "Data columns (total 5 columns):\n",
            " #   Column        Non-Null Count  Dtype \n",
            "---  ------        --------------  ----- \n",
            " 0   brand         9114 non-null   object\n",
            " 1   categories    10000 non-null  object\n",
            " 2   ingredients   9972 non-null   object\n",
            " 3   manufacturer  7317 non-null   object\n",
            " 4   title         9996 non-null   object\n",
            "dtypes: object(5)\n",
            "memory usage: 788.8+ KB\n"
          ],
          "name": "stdout"
        }
      ]
    },
    {
      "cell_type": "code",
      "metadata": {
        "id": "zsYJWVQSCo0b",
        "colab_type": "code",
        "colab": {
          "base_uri": "https://localhost:8080/",
          "height": 119
        },
        "outputId": "96204cb7-e158-45a7-fcac-9679d8f5dd56"
      },
      "source": [
        "df.nunique()"
      ],
      "execution_count": 38,
      "outputs": [
        {
          "output_type": "execute_result",
          "data": {
            "text/plain": [
              "brand           3143\n",
              "categories      4285\n",
              "ingredients     9290\n",
              "manufacturer    2969\n",
              "title           9911\n",
              "dtype: int64"
            ]
          },
          "metadata": {
            "tags": []
          },
          "execution_count": 38
        }
      ]
    },
    {
      "cell_type": "markdown",
      "metadata": {
        "id": "g3k28oLveNbr",
        "colab_type": "text"
      },
      "source": [
        "##### Removal of duplicates form the dataframe"
      ]
    },
    {
      "cell_type": "code",
      "metadata": {
        "id": "daAM94v3C304",
        "colab_type": "code",
        "colab": {}
      },
      "source": [
        "df.drop_duplicates(inplace=True)"
      ],
      "execution_count": 0,
      "outputs": []
    },
    {
      "cell_type": "code",
      "metadata": {
        "id": "jm2kc7m9Dyb2",
        "colab_type": "code",
        "colab": {
          "base_uri": "https://localhost:8080/",
          "height": 34
        },
        "outputId": "03a9c843-415b-4799-d4ea-22354829a65a"
      },
      "source": [
        "df.duplicated().sum()"
      ],
      "execution_count": 50,
      "outputs": [
        {
          "output_type": "execute_result",
          "data": {
            "text/plain": [
              "0"
            ]
          },
          "metadata": {
            "tags": []
          },
          "execution_count": 50
        }
      ]
    },
    {
      "cell_type": "code",
      "metadata": {
        "id": "4pBWGWs-T7Zt",
        "colab_type": "code",
        "colab": {}
      },
      "source": [
        "Features = ['brand', 'categories', 'ingredients', 'manufacturer']"
      ],
      "execution_count": 0,
      "outputs": []
    },
    {
      "cell_type": "markdown",
      "metadata": {
        "id": "pF7OlArYee7E",
        "colab_type": "text"
      },
      "source": [
        "##### Filling all the null values by an empty string:"
      ]
    },
    {
      "cell_type": "code",
      "metadata": {
        "id": "sL2c0nhIUFV6",
        "colab_type": "code",
        "colab": {}
      },
      "source": [
        "for x in Features:\n",
        "  df[x]= df[x].fillna('')"
      ],
      "execution_count": 0,
      "outputs": []
    },
    {
      "cell_type": "code",
      "metadata": {
        "id": "sJiYEC6pTC3N",
        "colab_type": "code",
        "colab": {}
      },
      "source": [
        "def combine_features(row):\n",
        "  return row['brand'] + \" \" + row['categories'] + \" \" + row['ingredients'] + \" \" + row['manufacturer']"
      ],
      "execution_count": 0,
      "outputs": []
    },
    {
      "cell_type": "code",
      "metadata": {
        "id": "JGdD1GrfUlQK",
        "colab_type": "code",
        "colab": {}
      },
      "source": [
        "df['combine_features'] = df.apply( combine_features, axis=1)"
      ],
      "execution_count": 0,
      "outputs": []
    },
    {
      "cell_type": "code",
      "metadata": {
        "id": "CyHk_q8vUxaJ",
        "colab_type": "code",
        "colab": {
          "base_uri": "https://localhost:8080/",
          "height": 238
        },
        "outputId": "f5591bd4-a566-43c2-a78c-d636942d438c"
      },
      "source": [
        "df['combine_features']"
      ],
      "execution_count": 58,
      "outputs": [
        {
          "output_type": "execute_result",
          "data": {
            "text/plain": [
              "index\n",
              "0       Simon Fischer Grocery & Gourmet Food,Food,Groc...\n",
              "1       McCormick Grocery & Gourmet Food,Food,Grocery ...\n",
              "2       Jolly Time Grocery & Gourmet Food,Grocery Salt...\n",
              "3       Ziyad Grocery & Gourmet Food,grocery Mechanica...\n",
              "4       Fla-Vor-Ice Grocery & Gourmet Food,grocery FAL...\n",
              "                              ...                        \n",
              "9995    Wright's Barbecue,Grocery & Gourmet Food,Sauce...\n",
              "9996    Eden Foods Food,Snacks, Cookies & Chips,Nuts &...\n",
              "9997    Happy Belly Cashews,Grocery & Gourmet Food,Coo...\n",
              "9998    Quaker Food,Snacks, Cookies & Chips,Rice Cakes...\n",
              "9999    Weetabix Grocery,Pantry,Granola,Food,Breakfast...\n",
              "Name: combine_features, Length: 9987, dtype: object"
            ]
          },
          "metadata": {
            "tags": []
          },
          "execution_count": 58
        }
      ]
    },
    {
      "cell_type": "code",
      "metadata": {
        "id": "RZhsceVBUzdg",
        "colab_type": "code",
        "colab": {}
      },
      "source": [
        "from sklearn.feature_extraction.text import CountVectorizer\n",
        "from sklearn.metrics.pairwise import cosine_similarity"
      ],
      "execution_count": 0,
      "outputs": []
    },
    {
      "cell_type": "markdown",
      "metadata": {
        "id": "bMf2xM3qd8lM",
        "colab_type": "text"
      },
      "source": [
        "##### CountVectorizer"
      ]
    },
    {
      "cell_type": "code",
      "metadata": {
        "id": "ZyYR8AU1VV1x",
        "colab_type": "code",
        "colab": {}
      },
      "source": [
        "cv = CountVectorizer()\n",
        "count_matrix = cv.fit_transform(df['combine_features'])"
      ],
      "execution_count": 0,
      "outputs": []
    },
    {
      "cell_type": "markdown",
      "metadata": {
        "id": "x9E17gWSd29T",
        "colab_type": "text"
      },
      "source": [
        "##### Cosine Similarity"
      ]
    },
    {
      "cell_type": "code",
      "metadata": {
        "id": "24ohrv0pV07V",
        "colab_type": "code",
        "colab": {}
      },
      "source": [
        "cosine_sim = cosine_similarity(count_matrix)"
      ],
      "execution_count": 0,
      "outputs": []
    },
    {
      "cell_type": "markdown",
      "metadata": {
        "id": "mlqdQdamd_as",
        "colab_type": "text"
      },
      "source": [
        "##### Functions for returning expected values:"
      ]
    },
    {
      "cell_type": "code",
      "metadata": {
        "id": "thQYcrYRV7s7",
        "colab_type": "code",
        "colab": {}
      },
      "source": [
        "def get_index_from_title(title):\n",
        "  return df[df['title'] == title].index.values[0]\n",
        "df.reset_index(inplace=True)\n",
        "def get_title_from_index(index):\n",
        "  return df[df['index'] == index]['title'].values[0]"
      ],
      "execution_count": 0,
      "outputs": []
    },
    {
      "cell_type": "markdown",
      "metadata": {
        "id": "V18CU-fZdk5d",
        "colab_type": "text"
      },
      "source": [
        "#### Taking input from the user:"
      ]
    },
    {
      "cell_type": "code",
      "metadata": {
        "id": "aRaBxql8WzI6",
        "colab_type": "code",
        "colab": {
          "base_uri": "https://localhost:8080/",
          "height": 34
        },
        "outputId": "2b098d7f-db36-4dec-d18f-a1a9dbc9c4f4"
      },
      "source": [
        "food_user_likes = input('Enter preffered food item : ')"
      ],
      "execution_count": 86,
      "outputs": [
        {
          "output_type": "stream",
          "text": [
            "Enter preffered food item : Jolly Time Popcorn\n"
          ],
          "name": "stdout"
        }
      ]
    },
    {
      "cell_type": "code",
      "metadata": {
        "id": "AWnE5KJTXLOA",
        "colab_type": "code",
        "colab": {}
      },
      "source": [
        "food_index = get_index_from_title(food_user_likes)"
      ],
      "execution_count": 0,
      "outputs": []
    },
    {
      "cell_type": "code",
      "metadata": {
        "id": "H7oIGZxgYpVH",
        "colab_type": "code",
        "colab": {}
      },
      "source": [
        "#making a list of similar items to the item entered by the user\n",
        "similar_foods = list(enumerate(cosine_sim[food_index]))"
      ],
      "execution_count": 0,
      "outputs": []
    },
    {
      "cell_type": "code",
      "metadata": {
        "id": "dwcMhNQMZO_t",
        "colab_type": "code",
        "colab": {}
      },
      "source": [
        "#sorting in descending order\n",
        "sorted_similar_food = sorted(similar_foods , key = lambda x:x[1],reverse=True)"
      ],
      "execution_count": 0,
      "outputs": []
    },
    {
      "cell_type": "markdown",
      "metadata": {
        "id": "w1ww3t-XfNgV",
        "colab_type": "text"
      },
      "source": [
        "##### To display 5 most correlated items with the given input: "
      ]
    },
    {
      "cell_type": "code",
      "metadata": {
        "id": "-aR7F9ZbcdnJ",
        "colab_type": "code",
        "colab": {
          "base_uri": "https://localhost:8080/",
          "height": 102
        },
        "outputId": "fee353d0-55bf-4d1e-c2b0-8bbd053c7d38"
      },
      "source": [
        "sorted_similar_food[:5]"
      ],
      "execution_count": 93,
      "outputs": [
        {
          "output_type": "execute_result",
          "data": {
            "text/plain": [
              "[(2, 1.0000000000000002),\n",
              " (1070, 0.4951875684721383),\n",
              " (7673, 0.4801287609333056),\n",
              " (4751, 0.47809144373375745),\n",
              " (1982, 0.47434164902525694)]"
            ]
          },
          "metadata": {
            "tags": []
          },
          "execution_count": 93
        }
      ]
    },
    {
      "cell_type": "markdown",
      "metadata": {
        "id": "hn-KV9gqdrkM",
        "colab_type": "text"
      },
      "source": [
        "#### Returned Output:"
      ]
    },
    {
      "cell_type": "code",
      "metadata": {
        "id": "n4j36AjNaMWK",
        "colab_type": "code",
        "colab": {
          "base_uri": "https://localhost:8080/",
          "height": 884
        },
        "outputId": "7b4cbc15-f933-48e2-8141-cb08467c4445"
      },
      "source": [
        "i=0\n",
        "for x in sorted_similar_food:\n",
        "  print(get_title_from_index(x[0]))\n",
        "  i=i+1\n",
        "  if i>50:  #printing top 50 similar food items\n",
        "    break"
      ],
      "execution_count": 96,
      "outputs": [
        {
          "output_type": "stream",
          "text": [
            "Jolly Time Popcorn\n",
            "Cake Decorating Icing Green 4.25OZ (Pack of 18)\n",
            "Gold Emblem Trail Mix Energy Blend\n",
            "Jolly Time Pop Corn, Yellow Kernels, 2lb\n",
            "Natco - Kala Chana - 400g (pack of 2)\n",
            "Pixy Sticks Bulk (2 lb Bag)\n",
            "Hunt's Bbq Sauce Honey Mustard 510g\n",
            "Folgers Toasted Hazelnut Flavored Ground Coffee\n",
            "Jell-O  Flan\n",
            "Nips Sugar Free Caramel Candy\n",
            "Jolly Time All-in-One Popcorn Kernel\n",
            "Gatorade G Series Perform Lemon-Lime Sports Drink Powder, 50.9 oz\n",
            "Morton Ice Cream Salt 4lb Box\n",
            "Chobani174 Limited Batch Watermelon Blended Low-Fat Greek Yogurt - 5.3oz\n",
            "Gatorade G Series Lemon-lime (76.5 Oz/makes 9 Gallons)\n",
            "G Thirst Quencher, Perform 02, Berry, 6 - 12 fl oz (355 ml) bottles\n",
            "Pumpkin Spice Oreo Cookies Limited Edition Seasonal\n",
            "Natco - Sarson Ka Saag - 800g\n",
            "VALENTINE'S DAY COOKIE TALK COOKIE PLATTERS WITH MESSAGES (ROMANTIC THEME)\n",
            "Quaker Instant Oatmeal Lower Sugar\n",
            "Alaska Smokehouse Smoked Sockeye Fillet in Gift Box\n",
            "Alessi - Coarse Mediterranean Sea Salt\n",
            "Roland Fancy Salmon\n",
            "Dominican Liquid Hot Sauce Spicy Seasoning Ranchero Sazon Liquido Picante 29 Oz\n",
            "Faeries Finest Flavor Extract\n",
            "Black Truffle Pop Corn Kits\n",
            "Natco - Sarson Ka Saag - 450g (pack of 4)\n",
            "Lay's Stax, Pizza, 5.5 Oz\n",
            "Mm's Peanut Butter Candy - 1.63oz\n",
            "Sea Isle - Gungo Peas In Salted Water - 400g (pack of 2)\n",
            "Noritamago Furikake Rice Seasoning\n",
            "Betty Crocker Mashed Potato Homestyle Creamy Butter Pouch 4.7 Oz\n",
            "Toffee Crunch Bar\n",
            "Jell-O Instant Pudding _ Pie Filling Pumpkin Spice, 3.4 Oz\n",
            "Smarties Tropical Candy Rolls\n",
            "Smarties X-TREME Sour Rolls\n",
            "Gatorade Strawberry Lemonade 32oz\n",
            "Simon Fischer Fruit Bttr Prune Lekvar\n",
            "M&M'S Milk Chocolate MINIS Size Candy 1.08-Ounce Tube 24-Count\n",
            "Endangered Species Panther\n",
            "Zveet Birch Xylitol Sweetener (Made in USA) (1 LB)\n",
            "Vero Mexican Tamarindo Candy Rellerindos - 65 Count [Misc.]\n",
            "Palacios Chorizo, 7.9 OZ\n",
            "Manischewitz Matzo-Style Squares Gluten Free, 10.0 OZ\n",
            "Cafe Mocha M&M Holiday Gift Tin\n",
            "NATHANS MUSTARD CONEY ISLAND, 16 OZ\n",
            "Trident Sugar Free Gum Perfect Peppermint 18'stick 12 Pcs A Pack\n",
            "Wiley Wallaby Green Apple Licorice 10 oz licorice package\n",
            "Gatorade Cool Blue Sports Drink 32 Oz\n",
            "Tetley174 Decaffeinated British Blend - 40ct\n",
            "Hanami Prawn Crackers Snack with Nori Seaweed Flavor Net Wt 30 G (1.0 Oz) X 2 Bags\n"
          ],
          "name": "stdout"
        }
      ]
    },
    {
      "cell_type": "markdown",
      "metadata": {
        "id": "2h3RXN1tgdck",
        "colab_type": "text"
      },
      "source": [
        "**Above displayed are the 50 most similar food compared to the given input**"
      ]
    }
  ]
}